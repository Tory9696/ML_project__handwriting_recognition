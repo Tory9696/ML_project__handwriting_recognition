{
  "nbformat": 4,
  "nbformat_minor": 0,
  "metadata": {
    "colab": {
      "provenance": [],
      "authorship_tag": "ABX9TyOe9A4FrcGiXKnPW/eyxyOp",
      "include_colab_link": true
    },
    "kernelspec": {
      "name": "python3",
      "display_name": "Python 3"
    },
    "language_info": {
      "name": "python"
    }
  },
  "cells": [
    {
      "cell_type": "markdown",
      "metadata": {
        "id": "view-in-github",
        "colab_type": "text"
      },
      "source": [
        "<a href=\"https://colab.research.google.com/github/Tory9696/ML_project__handwriting_recognition/blob/main/ML_project__handwriting_recognition.ipynb\" target=\"_parent\"><img src=\"https://colab.research.google.com/assets/colab-badge.svg\" alt=\"Open In Colab\"/></a>"
      ]
    },
    {
      "cell_type": "code",
      "execution_count": 13,
      "metadata": {
        "id": "CifWDPY108NE"
      },
      "outputs": [],
      "source": [
        "import numpy\n",
        "import scipy.special"
      ]
    },
    {
      "cell_type": "code",
      "source": [
        "class neuralNetwork:\n",
        "  def __init__(self, inputnodes, hiddennodes, outputnodes, learningrate):\n",
        "    self.inodes = inputnodes\n",
        "    self.hnodes = hiddennodes\n",
        "    self.onodes = outputnodes\n",
        "    self.wih = numpy.random.normal(0.0, pow(self.hnodes, - 0.5), (self.hnodes, self.inodes))\n",
        "    self.who = numpy.random.normal(0.0, pow(self.onodes, - 0.5), (self.onodes, self.hnodes))\n",
        "    self.lr = learningrate\n",
        "    self.activation_function = lambda x: scipy.special.expit(x)\n",
        "    pass\n",
        "\n",
        "  def train(self, inputs_list, targets_list):\n",
        "    inputs = numpy.array(inputs_list, ndmin = 2).T\n",
        "    targets = numpy.array(targets_list, ndmin = 2).T\n",
        "    hidden_inputs = numpy.dot(self.wih, inputs)\n",
        "    hidden_outputs = self.activation_function(hidden_inputs)\n",
        "    final_inputs = numpy.dot(self.who, hidden_outputs)\n",
        "    final_outputs = self.activation_function(final_inputs)\n",
        "    output_errors = targets - final_outputs\n",
        "    hidden_errors = numpy.dot(self.who.T, output_errors)\n",
        "    self.who += self.lr * numpy.dot((output_errors * final_outputs * (1.0 - final_outputs)), numpy.transpose(hidden_outputs))\n",
        "    self.wih += self.lr * numpy.dot((hidden_errors * hidden_outputs * (1.0 - hidden_outputs)), numpy.transpose(inputs))\n",
        "    pass\n",
        "\n",
        "  def query(self, inputs_list):\n",
        "    inputs = numpy.array(inputs_list, ndmin = 2).T\n",
        "    hidden_inputs = numpy.dot(self.wih, inputs)\n",
        "    hidden_outputs = self.activation_function(hidden_inputs)\n",
        "    final_inputs = numpy.dot(self.who, hidden_outputs)\n",
        "    final_outputs = self.activation_function(final_inputs)\n",
        "    return final_outputs\n",
        "\n",
        "input_nodes = 3\n",
        "hidden_nodes = 3\n",
        "output_nodes = 3\n",
        "\n",
        "learning_rate = 0.3\n",
        "n = neuralNetwork(input_nodes, hidden_nodes, output_nodes, learning_rate)\n",
        "\n",
        "A = n.query([1.0, 0.5, -1.5])\n",
        "print(A)"
      ],
      "metadata": {
        "id": "HUXi3mtK1FAR"
      },
      "execution_count": null,
      "outputs": []
    }
  ]
}